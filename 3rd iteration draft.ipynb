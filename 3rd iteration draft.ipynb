{
 "cells": [
  {
   "cell_type": "code",
   "execution_count": 1,
   "id": "89e56464",
   "metadata": {},
   "outputs": [],
   "source": [
    "import pandas as pd\n",
    "import numpy as np\n",
    "import nltk\n",
    "from wrangle import wrangle\n",
    "import matplotlib.pyplot as plt\n",
    "import sklearn.preprocessing\n",
    "import seaborn\n",
    "from sklearn.model_selection import train_test_split\n",
    "from nltk.tokenize.toktok import ToktokTokenizer\n",
    "import warnings\n",
    "import re\n",
    "\n",
    "from scipy import stats\n",
    "from sklearn.feature_extraction.text import CountVectorizer\n",
    "warnings.filterwarnings('ignore')"
   ]
  },
  {
   "cell_type": "markdown",
   "id": "6d6363b0",
   "metadata": {},
   "source": [
    "# Project Objective\n",
    "Can I build a model that succesfully classifies Magic the Gathering creature cards by the 5 basic colors using attributes from the card\n",
    "\n",
    "# Executive Summary\n",
    "There are distinct words in the text that correlate to color\n",
    "\n",
    "My SVC model provides 66.7% accuracy on unseen data.\n",
    "\n",
    "SVC beats baseline which was was 21.48%\n",
    "\n",
    "These models where run soley using the text column to provide an mvp, I am confident that adding power, toughness, converted mana cost, and creature type will provide a higher rate of accuracy for future iterations. "
   ]
  },
  {
   "cell_type": "code",
   "execution_count": 2,
   "id": "360eb037",
   "metadata": {},
   "outputs": [],
   "source": [
    "# For more information on how data was cleaned and preped for this dataframe please vist\n",
    "# my README.MD where it is extensivley documented\n",
    "train,validate,test =wrangle()"
   ]
  },
  {
   "cell_type": "code",
   "execution_count": 3,
   "id": "2cbe2385",
   "metadata": {},
   "outputs": [
    {
     "data": {
      "text/plain": [
       "((5596, 10), (2399, 10), (1999, 10))"
      ]
     },
     "execution_count": 3,
     "metadata": {},
     "output_type": "execute_result"
    }
   ],
   "source": [
    "# Testing my wrangle function\n",
    "train.shape,validate.shape,test.shape"
   ]
  },
  {
   "cell_type": "code",
   "execution_count": 4,
   "id": "22df80a9",
   "metadata": {},
   "outputs": [
    {
     "data": {
      "text/html": [
       "<div>\n",
       "<style scoped>\n",
       "    .dataframe tbody tr th:only-of-type {\n",
       "        vertical-align: middle;\n",
       "    }\n",
       "\n",
       "    .dataframe tbody tr th {\n",
       "        vertical-align: top;\n",
       "    }\n",
       "\n",
       "    .dataframe thead th {\n",
       "        text-align: right;\n",
       "    }\n",
       "</style>\n",
       "<table border=\"1\" class=\"dataframe\">\n",
       "  <thead>\n",
       "    <tr style=\"text-align: right;\">\n",
       "      <th></th>\n",
       "      <th>colors</th>\n",
       "      <th>keywords</th>\n",
       "      <th>manaValue</th>\n",
       "      <th>name</th>\n",
       "      <th>power</th>\n",
       "      <th>rarity</th>\n",
       "      <th>subtypes</th>\n",
       "      <th>supertypes</th>\n",
       "      <th>text</th>\n",
       "      <th>toughness</th>\n",
       "    </tr>\n",
       "  </thead>\n",
       "  <tbody>\n",
       "    <tr>\n",
       "      <th>2519</th>\n",
       "      <td>G</td>\n",
       "      <td>Megamorph</td>\n",
       "      <td>4.0</td>\n",
       "      <td>Salt Road Ambushers</td>\n",
       "      <td>3.0</td>\n",
       "      <td>uncommon</td>\n",
       "      <td>Dog,Warrior</td>\n",
       "      <td>None</td>\n",
       "      <td>Whenever another permanent you control is turn...</td>\n",
       "      <td>3.0</td>\n",
       "    </tr>\n",
       "    <tr>\n",
       "      <th>6143</th>\n",
       "      <td>R</td>\n",
       "      <td>Delirium,Reach</td>\n",
       "      <td>4.0</td>\n",
       "      <td>Gouged Zealot</td>\n",
       "      <td>4.0</td>\n",
       "      <td>common</td>\n",
       "      <td>Cyclops,Berserker</td>\n",
       "      <td>None</td>\n",
       "      <td>Reach Delirium — Whenever this card attacks, i...</td>\n",
       "      <td>3.0</td>\n",
       "    </tr>\n",
       "    <tr>\n",
       "      <th>9621</th>\n",
       "      <td>G</td>\n",
       "      <td>Reach</td>\n",
       "      <td>2.0</td>\n",
       "      <td>Canopy Spider</td>\n",
       "      <td>1.0</td>\n",
       "      <td>common</td>\n",
       "      <td>Spider</td>\n",
       "      <td>None</td>\n",
       "      <td>Reach</td>\n",
       "      <td>3.0</td>\n",
       "    </tr>\n",
       "    <tr>\n",
       "      <th>8047</th>\n",
       "      <td>B</td>\n",
       "      <td>Horsemanship</td>\n",
       "      <td>4.0</td>\n",
       "      <td>Cao Ren, Wei Commander</td>\n",
       "      <td>3.0</td>\n",
       "      <td>rare</td>\n",
       "      <td>Human,Soldier,Warrior</td>\n",
       "      <td>Legendary</td>\n",
       "      <td>Horsemanship  When this card enters the battle...</td>\n",
       "      <td>3.0</td>\n",
       "    </tr>\n",
       "    <tr>\n",
       "      <th>9195</th>\n",
       "      <td>B</td>\n",
       "      <td>None</td>\n",
       "      <td>3.0</td>\n",
       "      <td>Promising Duskmage</td>\n",
       "      <td>2.0</td>\n",
       "      <td>common</td>\n",
       "      <td>Human,Warlock</td>\n",
       "      <td>None</td>\n",
       "      <td>When this card dies, if it had a +1/+1 counter...</td>\n",
       "      <td>3.0</td>\n",
       "    </tr>\n",
       "  </tbody>\n",
       "</table>\n",
       "</div>"
      ],
      "text/plain": [
       "     colors        keywords  manaValue                    name  power  \\\n",
       "2519      G       Megamorph        4.0     Salt Road Ambushers    3.0   \n",
       "6143      R  Delirium,Reach        4.0           Gouged Zealot    4.0   \n",
       "9621      G           Reach        2.0           Canopy Spider    1.0   \n",
       "8047      B    Horsemanship        4.0  Cao Ren, Wei Commander    3.0   \n",
       "9195      B            None        3.0      Promising Duskmage    2.0   \n",
       "\n",
       "        rarity               subtypes supertypes  \\\n",
       "2519  uncommon            Dog,Warrior       None   \n",
       "6143    common      Cyclops,Berserker       None   \n",
       "9621    common                 Spider       None   \n",
       "8047      rare  Human,Soldier,Warrior  Legendary   \n",
       "9195    common          Human,Warlock       None   \n",
       "\n",
       "                                                   text  toughness  \n",
       "2519  Whenever another permanent you control is turn...        3.0  \n",
       "6143  Reach Delirium — Whenever this card attacks, i...        3.0  \n",
       "9621                                             Reach         3.0  \n",
       "8047  Horsemanship  When this card enters the battle...        3.0  \n",
       "9195  When this card dies, if it had a +1/+1 counter...        3.0  "
      ]
     },
     "execution_count": 4,
     "metadata": {},
     "output_type": "execute_result"
    }
   ],
   "source": [
    "#Snapshot\n",
    "train.head()"
   ]
  },
  {
   "cell_type": "code",
   "execution_count": 5,
   "id": "6bc0903d",
   "metadata": {},
   "outputs": [
    {
     "data": {
      "image/png": "[encoded data removed]",
      "text/plain": [
       "<Figure size 720x720 with 6 Axes>"
      ]
     },
     "metadata": {
      "needs_background": "light"
     },
     "output_type": "display_data"
    }
   ],
   "source": [
    "# resource cost by color \n",
    "\n",
    "train.manaValue.hist(by=train.colors, figsize=(10,10), bins=10);"
   ]
  },
  {
   "cell_type": "markdown",
   "id": "bf27a52f",
   "metadata": {},
   "source": [
    "Some colors have a normally distibuted mana cost and other colors are more right skewed\n"
   ]
  },
  {
   "cell_type": "markdown",
   "id": "b0c7dd64",
   "metadata": {},
   "source": [
    "Is there a significant difference between the population mean of each color?\n",
    "\n"
   ]
  },
  {
   "cell_type": "markdown",
   "id": "29210fab",
   "metadata": {},
   "source": [
    "The Kruskal-Wallis H-test tests the null hypothesis that the population median of all of the groups are equal and does not need the normalcy of a data set that an ANOVA test would require.\n",
    "\n",
    "Kruskal-Wallis H-test:\n",
    "\n",
    "$H_0$: there is no difference in mean mana value between the 5 colors\n",
    "\n",
    "$H_a$: there is a significant in mean mana value between the 5 colors"
   ]
  },
  {
   "cell_type": "code",
   "execution_count": 6,
   "id": "e98cf9a3",
   "metadata": {},
   "outputs": [
    {
     "data": {
      "text/plain": [
       "KruskalResult(statistic=24.246471177012083, pvalue=7.128310462415387e-05)"
      ]
     },
     "execution_count": 6,
     "metadata": {},
     "output_type": "execute_result"
    }
   ],
   "source": [
    "alpha = .05\n",
    "stats.kruskal(    \n",
    "    train[train.colors == 'B'].manaValue,\n",
    "    train[train.colors == 'U'].manaValue,\n",
    "    train[train.colors == 'W'].manaValue,\n",
    "    train[train.colors == 'R'].manaValue,\n",
    "    train[train.colors == 'G'].manaValue)\n"
   ]
  },
  {
   "cell_type": "markdown",
   "id": "47278d6f",
   "metadata": {},
   "source": [
    "We can succesfully reject the null hypothesis. The pvalue of .0006 is less then our aplha of .05, meaning there is a sigificant difference in mana values between the 5 colors"
   ]
  },
  {
   "cell_type": "code",
   "execution_count": 7,
   "id": "a034c463",
   "metadata": {},
   "outputs": [
    {
     "data": {
      "image/png": "[encoded data removed]",
      "text/plain": [
       "<Figure size 720x720 with 6 Axes>"
      ]
     },
     "metadata": {
      "needs_background": "light"
     },
     "output_type": "display_data"
    }
   ],
   "source": [
    "# power by color\n",
    "train.power = pd.to_numeric(train.power, errors='coerce', downcast = 'integer')\n",
    "\n",
    "train.power.hist(by=train.colors, figsize=(10,10), bins=8)\n",
    "plt.show();"
   ]
  },
  {
   "cell_type": "markdown",
   "id": "04a9eab7",
   "metadata": {},
   "source": [
    "Green has the creatures with the most power"
   ]
  },
  {
   "cell_type": "markdown",
   "id": "a7364235",
   "metadata": {},
   "source": [
    "Is there statistical evidence that mean power significantly differnet amoung the five colors?\n",
    "\n",
    "Kruskal-Wallis H-test:\n",
    "\n",
    "$H_0$: there is no difference in mean power between green and the other colors\n",
    "\n",
    "$H_a$: there is a significant difference in mean power between green and the other colors"
   ]
  },
  {
   "cell_type": "code",
   "execution_count": 8,
   "id": "b1649608",
   "metadata": {},
   "outputs": [
    {
     "data": {
      "text/plain": [
       "MannwhitneyuResult(statistic=2359070.0, pvalue=1.2517627752064598e-08)"
      ]
     },
     "execution_count": 8,
     "metadata": {},
     "output_type": "execute_result"
    }
   ],
   "source": [
    "alpha = .05\n",
    "sample1 = train[train.colors == 'G'].power\n",
    "sample2 = train[train.colors != 'G'].power\n",
    "stats.mannwhitneyu(sample1, sample2)"
   ]
  },
  {
   "cell_type": "markdown",
   "id": "f24c547a",
   "metadata": {},
   "source": [
    "We can succesfully reject the null hypothesis. The pvalue of  is less then our aplha of .05, meaning there is a sigificant difference in power between green the 4 colors other colors"
   ]
  },
  {
   "cell_type": "code",
   "execution_count": 9,
   "id": "edace622",
   "metadata": {},
   "outputs": [
    {
     "data": {
      "image/png": "[encoded data removed]",
      "text/plain": [
       "<Figure size 720x720 with 6 Axes>"
      ]
     },
     "metadata": {
      "needs_background": "light"
     },
     "output_type": "display_data"
    }
   ],
   "source": [
    "train.toughness = pd.to_numeric(train.toughness, errors='coerce', downcast = 'integer')\n",
    "\n",
    "train.toughness.hist(by=train.colors, figsize=(10,10), bins=15)\n",
    "plt.show();"
   ]
  },
  {
   "cell_type": "markdown",
   "id": "25a98066",
   "metadata": {},
   "source": [
    "Green and blue appear to have the toughest creatures\n"
   ]
  },
  {
   "cell_type": "code",
   "execution_count": 10,
   "id": "380a5d65",
   "metadata": {},
   "outputs": [
    {
     "data": {
      "text/plain": [
       "KruskalResult(statistic=30.234264091470042, pvalue=4.385314393229559e-06)"
      ]
     },
     "execution_count": 10,
     "metadata": {},
     "output_type": "execute_result"
    }
   ],
   "source": [
    "alpha = .05\n",
    "stats.kruskal(    \n",
    "    train[train.colors == 'B'].toughness,\n",
    "    train[train.colors == 'U'].toughness,\n",
    "    train[train.colors == 'W'].toughness,\n",
    "    train[train.colors == 'R'].toughness,\n",
    "    train[train.colors == 'G'].toughness)"
   ]
  },
  {
   "cell_type": "code",
   "execution_count": 11,
   "id": "83850678",
   "metadata": {},
   "outputs": [
    {
     "name": "stdout",
     "output_type": "stream",
     "text": [
      "Top words from all cards\n"
     ]
    },
    {
     "data": {
      "text/plain": [
       "['card',\n",
       " 'creature',\n",
       " 'battlefield',\n",
       " 'target',\n",
       " 'turn',\n",
       " 'control',\n",
       " 'enters',\n",
       " 'flying',\n",
       " 'end',\n",
       " 'tap']"
      ]
     },
     "execution_count": 11,
     "metadata": {},
     "output_type": "execute_result"
    }
   ],
   "source": [
    "def top_words(thing, num, stop=None):\n",
    "    '''This function returns the top x words for the dataframe'''\n",
    "    vectorizer = CountVectorizer(stop_words='english', lowercase=True)\n",
    "    vectorized_data = vectorizer.fit_transform(thing.text) \n",
    "    freqs = [(word, vectorized_data.getcol(idx).sum()) for word, idx \n",
    "             in vectorizer.vocabulary_.items()]\n",
    "    words =  sorted (freqs, key = lambda x: -x[1])\n",
    "    return [i[0] for i in words[:num]]\n",
    "\n",
    "print(\"Top words from all cards\")\n",
    "top_words(train, 10)"
   ]
  },
  {
   "cell_type": "code",
   "execution_count": 12,
   "id": "bb74ba8d",
   "metadata": {},
   "outputs": [
    {
     "data": {
      "text/html": [
       "<div>\n",
       "<style scoped>\n",
       "    .dataframe tbody tr th:only-of-type {\n",
       "        vertical-align: middle;\n",
       "    }\n",
       "\n",
       "    .dataframe tbody tr th {\n",
       "        vertical-align: top;\n",
       "    }\n",
       "\n",
       "    .dataframe thead th {\n",
       "        text-align: right;\n",
       "    }\n",
       "</style>\n",
       "<table border=\"1\" class=\"dataframe\">\n",
       "  <thead>\n",
       "    <tr style=\"text-align: right;\">\n",
       "      <th></th>\n",
       "      <th>B</th>\n",
       "      <th>U</th>\n",
       "      <th>G</th>\n",
       "      <th>R</th>\n",
       "      <th>W</th>\n",
       "    </tr>\n",
       "  </thead>\n",
       "  <tbody>\n",
       "    <tr>\n",
       "      <th>0</th>\n",
       "      <td>card</td>\n",
       "      <td>card</td>\n",
       "      <td>card</td>\n",
       "      <td>card</td>\n",
       "      <td>card</td>\n",
       "    </tr>\n",
       "    <tr>\n",
       "      <th>1</th>\n",
       "      <td>creature</td>\n",
       "      <td>flying</td>\n",
       "      <td>creature</td>\n",
       "      <td>turn</td>\n",
       "      <td>creature</td>\n",
       "    </tr>\n",
       "    <tr>\n",
       "      <th>2</th>\n",
       "      <td>battlefield</td>\n",
       "      <td>target</td>\n",
       "      <td>battlefield</td>\n",
       "      <td>creature</td>\n",
       "      <td>battlefield</td>\n",
       "    </tr>\n",
       "    <tr>\n",
       "      <th>3</th>\n",
       "      <td>target</td>\n",
       "      <td>creature</td>\n",
       "      <td>control</td>\n",
       "      <td>damage</td>\n",
       "      <td>target</td>\n",
       "    </tr>\n",
       "    <tr>\n",
       "      <th>4</th>\n",
       "      <td>turn</td>\n",
       "      <td>battlefield</td>\n",
       "      <td>enters</td>\n",
       "      <td>target</td>\n",
       "      <td>flying</td>\n",
       "    </tr>\n",
       "    <tr>\n",
       "      <th>5</th>\n",
       "      <td>enters</td>\n",
       "      <td>enters</td>\n",
       "      <td>turn</td>\n",
       "      <td>end</td>\n",
       "      <td>control</td>\n",
       "    </tr>\n",
       "    <tr>\n",
       "      <th>6</th>\n",
       "      <td>life</td>\n",
       "      <td>control</td>\n",
       "      <td>target</td>\n",
       "      <td>deals</td>\n",
       "      <td>turn</td>\n",
       "    </tr>\n",
       "    <tr>\n",
       "      <th>7</th>\n",
       "      <td>end</td>\n",
       "      <td>turn</td>\n",
       "      <td>end</td>\n",
       "      <td>control</td>\n",
       "      <td>enters</td>\n",
       "    </tr>\n",
       "    <tr>\n",
       "      <th>8</th>\n",
       "      <td>player</td>\n",
       "      <td>tap</td>\n",
       "      <td>tap</td>\n",
       "      <td>battlefield</td>\n",
       "      <td>end</td>\n",
       "    </tr>\n",
       "    <tr>\n",
       "      <th>9</th>\n",
       "      <td>flying</td>\n",
       "      <td>hand</td>\n",
       "      <td>trample</td>\n",
       "      <td>player</td>\n",
       "      <td>tap</td>\n",
       "    </tr>\n",
       "    <tr>\n",
       "      <th>10</th>\n",
       "      <td>control</td>\n",
       "      <td>cards</td>\n",
       "      <td>counter</td>\n",
       "      <td>enters</td>\n",
       "      <td>creatures</td>\n",
       "    </tr>\n",
       "    <tr>\n",
       "      <th>11</th>\n",
       "      <td>sacrifice</td>\n",
       "      <td>draw</td>\n",
       "      <td>gets</td>\n",
       "      <td>haste</td>\n",
       "      <td>damage</td>\n",
       "    </tr>\n",
       "    <tr>\n",
       "      <th>12</th>\n",
       "      <td>graveyard</td>\n",
       "      <td>spell</td>\n",
       "      <td>creatures</td>\n",
       "      <td>gets</td>\n",
       "      <td>life</td>\n",
       "    </tr>\n",
       "    <tr>\n",
       "      <th>13</th>\n",
       "      <td>opponent</td>\n",
       "      <td>end</td>\n",
       "      <td>counters</td>\n",
       "      <td>flying</td>\n",
       "      <td>vigilance</td>\n",
       "    </tr>\n",
       "    <tr>\n",
       "      <th>14</th>\n",
       "      <td>gets</td>\n",
       "      <td>player</td>\n",
       "      <td>library</td>\n",
       "      <td>tap</td>\n",
       "      <td>strike</td>\n",
       "    </tr>\n",
       "    <tr>\n",
       "      <th>15</th>\n",
       "      <td>tap</td>\n",
       "      <td>cast</td>\n",
       "      <td>land</td>\n",
       "      <td>creatures</td>\n",
       "      <td>counter</td>\n",
       "    </tr>\n",
       "    <tr>\n",
       "      <th>16</th>\n",
       "      <td>cards</td>\n",
       "      <td>return</td>\n",
       "      <td>green</td>\n",
       "      <td>attacks</td>\n",
       "      <td>gain</td>\n",
       "    </tr>\n",
       "    <tr>\n",
       "      <th>17</th>\n",
       "      <td>counter</td>\n",
       "      <td>owners</td>\n",
       "      <td>damage</td>\n",
       "      <td>combat</td>\n",
       "      <td>gets</td>\n",
       "    </tr>\n",
       "    <tr>\n",
       "      <th>18</th>\n",
       "      <td>damage</td>\n",
       "      <td>untap</td>\n",
       "      <td>create</td>\n",
       "      <td>sacrifice</td>\n",
       "      <td>white</td>\n",
       "    </tr>\n",
       "    <tr>\n",
       "      <th>19</th>\n",
       "      <td>dies</td>\n",
       "      <td>counter</td>\n",
       "      <td>player</td>\n",
       "      <td>strike</td>\n",
       "      <td>player</td>\n",
       "    </tr>\n",
       "    <tr>\n",
       "      <th>20</th>\n",
       "      <td>hand</td>\n",
       "      <td>library</td>\n",
       "      <td>cast</td>\n",
       "      <td>beginning</td>\n",
       "      <td>create</td>\n",
       "    </tr>\n",
       "    <tr>\n",
       "      <th>21</th>\n",
       "      <td>beginning</td>\n",
       "      <td>creatures</td>\n",
       "      <td>reach</td>\n",
       "      <td>cast</td>\n",
       "      <td>graveyard</td>\n",
       "    </tr>\n",
       "    <tr>\n",
       "      <th>22</th>\n",
       "      <td>creatures</td>\n",
       "      <td>damage</td>\n",
       "      <td>cards</td>\n",
       "      <td>spell</td>\n",
       "      <td>gains</td>\n",
       "    </tr>\n",
       "    <tr>\n",
       "      <th>23</th>\n",
       "      <td>deals</td>\n",
       "      <td>sacrifice</td>\n",
       "      <td>token</td>\n",
       "      <td>cards</td>\n",
       "      <td>lifelink</td>\n",
       "    </tr>\n",
       "    <tr>\n",
       "      <th>24</th>\n",
       "      <td>loses</td>\n",
       "      <td>opponent</td>\n",
       "      <td>beginning</td>\n",
       "      <td>opponent</td>\n",
       "      <td>hand</td>\n",
       "    </tr>\n",
       "    <tr>\n",
       "      <th>25</th>\n",
       "      <td>exile</td>\n",
       "      <td>discard</td>\n",
       "      <td>hand</td>\n",
       "      <td>trample</td>\n",
       "      <td>cast</td>\n",
       "    </tr>\n",
       "  </tbody>\n",
       "</table>\n",
       "</div>"
      ],
      "text/plain": [
       "              B            U            G            R            W\n",
       "0          card         card         card         card         card\n",
       "1      creature       flying     creature         turn     creature\n",
       "2   battlefield       target  battlefield     creature  battlefield\n",
       "3        target     creature      control       damage       target\n",
       "4          turn  battlefield       enters       target       flying\n",
       "5        enters       enters         turn          end      control\n",
       "6          life      control       target        deals         turn\n",
       "7           end         turn          end      control       enters\n",
       "8        player          tap          tap  battlefield          end\n",
       "9        flying         hand      trample       player          tap\n",
       "10      control        cards      counter       enters    creatures\n",
       "11    sacrifice         draw         gets        haste       damage\n",
       "12    graveyard        spell    creatures         gets         life\n",
       "13     opponent          end     counters       flying    vigilance\n",
       "14         gets       player      library          tap       strike\n",
       "15          tap         cast         land    creatures      counter\n",
       "16        cards       return        green      attacks         gain\n",
       "17      counter       owners       damage       combat         gets\n",
       "18       damage        untap       create    sacrifice        white\n",
       "19         dies      counter       player       strike       player\n",
       "20         hand      library         cast    beginning       create\n",
       "21    beginning    creatures        reach         cast    graveyard\n",
       "22    creatures       damage        cards        spell        gains\n",
       "23        deals    sacrifice        token        cards     lifelink\n",
       "24        loses     opponent    beginning     opponent         hand\n",
       "25        exile      discard         hand      trample         cast"
      ]
     },
     "execution_count": 12,
     "metadata": {},
     "output_type": "execute_result"
    }
   ],
   "source": [
    "def top_colors(sliced, num, stop=None):\n",
    "    '''This function returns the top words for each color and returns a df'''\n",
    "    label = [\"B\", \"U\", \"G\", \"R\", \"W\"]\n",
    "    df = pd.DataFrame(np.repeat(\" \", (num * 5)).reshape((num, 5)), columns=label)\n",
    "    for l in label:\n",
    "        top = top_words(sliced.groupby('colors').get_group(l), num, stop)\n",
    "        for n in range(num):\n",
    "            df[l][n] = top[n]\n",
    "    return df\n",
    "\n",
    "top_colors(train, 26, stop='english')"
   ]
  },
  {
   "cell_type": "code",
   "execution_count": 13,
   "id": "f34c193e",
   "metadata": {},
   "outputs": [
    {
     "data": {
      "text/html": [
       "<div>\n",
       "<style scoped>\n",
       "    .dataframe tbody tr th:only-of-type {\n",
       "        vertical-align: middle;\n",
       "    }\n",
       "\n",
       "    .dataframe tbody tr th {\n",
       "        vertical-align: top;\n",
       "    }\n",
       "\n",
       "    .dataframe thead th {\n",
       "        text-align: right;\n",
       "    }\n",
       "</style>\n",
       "<table border=\"1\" class=\"dataframe\">\n",
       "  <thead>\n",
       "    <tr style=\"text-align: right;\">\n",
       "      <th></th>\n",
       "      <th>colors</th>\n",
       "      <th>keywords</th>\n",
       "      <th>manaValue</th>\n",
       "      <th>name</th>\n",
       "      <th>power</th>\n",
       "      <th>rarity</th>\n",
       "      <th>subtypes</th>\n",
       "      <th>supertypes</th>\n",
       "      <th>text</th>\n",
       "      <th>toughness</th>\n",
       "    </tr>\n",
       "  </thead>\n",
       "  <tbody>\n",
       "    <tr>\n",
       "      <th>2519</th>\n",
       "      <td>G</td>\n",
       "      <td>Megamorph</td>\n",
       "      <td>4.0</td>\n",
       "      <td>Salt Road Ambushers</td>\n",
       "      <td>3</td>\n",
       "      <td>uncommon</td>\n",
       "      <td>Dog,Warrior</td>\n",
       "      <td>None</td>\n",
       "      <td>Whenever another permanent you control is turn...</td>\n",
       "      <td>3</td>\n",
       "    </tr>\n",
       "    <tr>\n",
       "      <th>6143</th>\n",
       "      <td>R</td>\n",
       "      <td>Delirium,Reach</td>\n",
       "      <td>4.0</td>\n",
       "      <td>Gouged Zealot</td>\n",
       "      <td>4</td>\n",
       "      <td>common</td>\n",
       "      <td>Cyclops,Berserker</td>\n",
       "      <td>None</td>\n",
       "      <td>Reach Delirium — Whenever this card attacks, i...</td>\n",
       "      <td>3</td>\n",
       "    </tr>\n",
       "    <tr>\n",
       "      <th>9621</th>\n",
       "      <td>G</td>\n",
       "      <td>Reach</td>\n",
       "      <td>2.0</td>\n",
       "      <td>Canopy Spider</td>\n",
       "      <td>1</td>\n",
       "      <td>common</td>\n",
       "      <td>Spider</td>\n",
       "      <td>None</td>\n",
       "      <td>Reach</td>\n",
       "      <td>3</td>\n",
       "    </tr>\n",
       "    <tr>\n",
       "      <th>8047</th>\n",
       "      <td>B</td>\n",
       "      <td>Horsemanship</td>\n",
       "      <td>4.0</td>\n",
       "      <td>Cao Ren, Wei Commander</td>\n",
       "      <td>3</td>\n",
       "      <td>rare</td>\n",
       "      <td>Human,Soldier,Warrior</td>\n",
       "      <td>Legendary</td>\n",
       "      <td>Horsemanship  When this card enters the battle...</td>\n",
       "      <td>3</td>\n",
       "    </tr>\n",
       "    <tr>\n",
       "      <th>9195</th>\n",
       "      <td>B</td>\n",
       "      <td>None</td>\n",
       "      <td>3.0</td>\n",
       "      <td>Promising Duskmage</td>\n",
       "      <td>2</td>\n",
       "      <td>common</td>\n",
       "      <td>Human,Warlock</td>\n",
       "      <td>None</td>\n",
       "      <td>When this card dies, if it had a +1/+1 counter...</td>\n",
       "      <td>3</td>\n",
       "    </tr>\n",
       "  </tbody>\n",
       "</table>\n",
       "</div>"
      ],
      "text/plain": [
       "     colors        keywords  manaValue                    name  power  \\\n",
       "2519      G       Megamorph        4.0     Salt Road Ambushers      3   \n",
       "6143      R  Delirium,Reach        4.0           Gouged Zealot      4   \n",
       "9621      G           Reach        2.0           Canopy Spider      1   \n",
       "8047      B    Horsemanship        4.0  Cao Ren, Wei Commander      3   \n",
       "9195      B            None        3.0      Promising Duskmage      2   \n",
       "\n",
       "        rarity               subtypes supertypes  \\\n",
       "2519  uncommon            Dog,Warrior       None   \n",
       "6143    common      Cyclops,Berserker       None   \n",
       "9621    common                 Spider       None   \n",
       "8047      rare  Human,Soldier,Warrior  Legendary   \n",
       "9195    common          Human,Warlock       None   \n",
       "\n",
       "                                                   text  toughness  \n",
       "2519  Whenever another permanent you control is turn...          3  \n",
       "6143  Reach Delirium — Whenever this card attacks, i...          3  \n",
       "9621                                             Reach           3  \n",
       "8047  Horsemanship  When this card enters the battle...          3  \n",
       "9195  When this card dies, if it had a +1/+1 counter...          3  "
      ]
     },
     "execution_count": 13,
     "metadata": {},
     "output_type": "execute_result"
    }
   ],
   "source": [
    "train.head()"
   ]
  },
  {
   "cell_type": "code",
   "execution_count": 14,
   "id": "9733753a",
   "metadata": {},
   "outputs": [],
   "source": [
    "vectorizer = CountVectorizer()\n",
    "type_matrix = vectorizer.fit_transform(train.subtypes)\n",
    "\n",
    "df2 =pd.DataFrame(type_matrix.toarray(), columns = vectorizer.get_feature_names())"
   ]
  },
  {
   "cell_type": "code",
   "execution_count": 15,
   "id": "e61b3c58",
   "metadata": {},
   "outputs": [],
   "source": [
    "# This is how vectorization works, ultimatley future iterations will have every other \n",
    "#column it the original df scaled and concated to this df giving me 1 extremley large \n",
    "# df to run my models on\n",
    "\n",
    "vectorizer = CountVectorizer()\n",
    "text_matrix = vectorizer.fit_transform(train.text)\n",
    "\n",
    "df = pd.DataFrame(text_matrix.toarray(), columns = vectorizer.get_feature_names())"
   ]
  },
  {
   "cell_type": "code",
   "execution_count": 16,
   "id": "3342d2c7",
   "metadata": {},
   "outputs": [],
   "source": [
    "z = pd.concat([df,df2], axis=1, ignore_index=False)"
   ]
  },
  {
   "cell_type": "code",
   "execution_count": null,
   "id": "980ede19",
   "metadata": {},
   "outputs": [],
   "source": []
  },
  {
   "cell_type": "markdown",
   "id": "59c6feb1",
   "metadata": {},
   "source": [
    "# NOTE: \n",
    "### My data is not stemmed, future iterations will stem the wordbag to see if that effects accuracy"
   ]
  },
  {
   "cell_type": "code",
   "execution_count": 17,
   "id": "29334c52",
   "metadata": {},
   "outputs": [],
   "source": [
    "# Creating my X_train,X_validate,X_test out of ONLY text, this is for mvp purposes future iterations\n",
    "# will contain more columns from the original df\n",
    "vectorizer = CountVectorizer(binary = True, stop_words = 'english')\n",
    "vectorizer.fit(list(train.text))\n",
    "X_train = vectorizer.transform(train.text)\n",
    "X_validate= vectorizer.transform(validate.text)\n",
    "X_test = vectorizer.transform(test.text)"
   ]
  },
  {
   "cell_type": "code",
   "execution_count": 18,
   "id": "865673d3",
   "metadata": {},
   "outputs": [],
   "source": [
    "text_df_train = pd.DataFrame(X_train.toarray(), columns = vectorizer.get_feature_names())\n",
    "text_df_validate = pd.DataFrame(X_validate.toarray(), columns = vectorizer.get_feature_names())\n",
    "text_df_test = pd.DataFrame(X_test.toarray(), columns = vectorizer.get_feature_names())"
   ]
  },
  {
   "cell_type": "code",
   "execution_count": 19,
   "id": "74c73023",
   "metadata": {},
   "outputs": [],
   "source": [
    "vectorizer = CountVectorizer(binary = True, stop_words = 'english')\n",
    "vectorizer.fit(list(train.subtypes))\n",
    "X_train = vectorizer.transform(train.subtypes)\n",
    "X_validate= vectorizer.transform(validate.subtypes)\n",
    "X_test = vectorizer.transform(test.subtypes)"
   ]
  },
  {
   "cell_type": "code",
   "execution_count": 20,
   "id": "482024c0",
   "metadata": {},
   "outputs": [],
   "source": [
    "types_df_train = pd.DataFrame(X_train.toarray(), columns = vectorizer.get_feature_names())\n",
    "types_df_validate = pd.DataFrame(X_validate.toarray(), columns = vectorizer.get_feature_names())\n",
    "types_df_test = pd.DataFrame(X_test.toarray(), columns = vectorizer.get_feature_names())"
   ]
  },
  {
   "cell_type": "code",
   "execution_count": 21,
   "id": "8e1cc769",
   "metadata": {},
   "outputs": [],
   "source": [
    "X_train=pd.concat([text_df_train,types_df_train], axis=1, ignore_index=False)\n",
    "X_validate=pd.concat([text_df_validate,types_df_validate], axis=1, ignore_index=False)\n",
    "X_test=pd.concat([text_df_test,types_df_test], axis=1, ignore_index=False)"
   ]
  },
  {
   "cell_type": "code",
   "execution_count": 22,
   "id": "bf6a7ab8",
   "metadata": {},
   "outputs": [],
   "source": [
    "# Creating y_train,y_validate, y_test\n",
    "y_train = train.colors\n",
    "y_validate = validate.colors\n",
    "y_test = test.colors"
   ]
  },
  {
   "cell_type": "code",
   "execution_count": 23,
   "id": "fdcb1750",
   "metadata": {},
   "outputs": [],
   "source": [
    "train.reset_index(drop=True, inplace = True)\n",
    "validate.reset_index(drop=True, inplace = True)\n",
    "test.reset_index(drop=True, inplace = True)"
   ]
  },
  {
   "cell_type": "code",
   "execution_count": 24,
   "id": "cb3a7eac",
   "metadata": {},
   "outputs": [],
   "source": [
    "scaler = sklearn.preprocessing.StandardScaler()\n",
    "# Note that we only call .fit with the training data,\n",
    "# but we use .transform to apply the scaling to all the data splits.\n",
    "scaler.fit(X_train)\n",
    "\n",
    "X_train = scaler.transform(X_train)\n",
    "X_validate = scaler.transform(X_validate)\n",
    "X_test = scaler.transform(X_test)\n"
   ]
  },
  {
   "cell_type": "markdown",
   "id": "6196a483",
   "metadata": {},
   "source": [
    "# Modeling\n",
    "## Baseline"
   ]
  },
  {
   "cell_type": "code",
   "execution_count": 25,
   "id": "8f20da29",
   "metadata": {},
   "outputs": [
    {
     "name": "stdout",
     "output_type": "stream",
     "text": [
      "Baseline accuracy is 21.34%\n"
     ]
    }
   ],
   "source": [
    "# Lets set a baseline for the dataset to compare everything to. \n",
    "# We'll use the most frequent card color as the baseline\n",
    "train['baseline'] = 'G'\n",
    "baseline_accuracy = (train.baseline == train.colors).mean()\n",
    "print(f'Baseline accuracy is {baseline_accuracy:.2%}')"
   ]
  },
  {
   "cell_type": "markdown",
   "id": "4a8aff26",
   "metadata": {},
   "source": [
    "Baseline accuracy is 21.48%, I'm expecting to beat this realativley easily"
   ]
  },
  {
   "cell_type": "markdown",
   "id": "20039c4e",
   "metadata": {},
   "source": [
    "# Support Vector Classifier\n",
    "Because everything about NLP is new I also tried a new model, During my \n",
    "research I found that Support Vector Classifiers excel at binary choices when my X-train, validate and test contain right now. Future implementations where I incorporate all the other characteristics may hurt this. \n",
    " "
   ]
  },
  {
   "cell_type": "code",
   "execution_count": 26,
   "id": "c1ba386b",
   "metadata": {},
   "outputs": [],
   "source": [
    "from sklearn import svm\n",
    "\n",
    "# Here im fitting the model using the function shape one versus one to put\n",
    "#each color against each other color\n",
    "svm = svm.SVC(C= 3, decision_function_shape='ovo')\n",
    "\n",
    "prob = svm.fit(X_train,y_train)\n",
    "\n",
    "y_predictions = svm.predict(X_train)\n"
   ]
  },
  {
   "cell_type": "code",
   "execution_count": 27,
   "id": "e783bf88",
   "metadata": {},
   "outputs": [],
   "source": [
    "y_pred = svm.predict(X_validate)"
   ]
  },
  {
   "cell_type": "code",
   "execution_count": 28,
   "id": "c844f22f",
   "metadata": {},
   "outputs": [
    {
     "name": "stdout",
     "output_type": "stream",
     "text": [
      "Accuracy for train SVC is:  91.49\n"
     ]
    }
   ],
   "source": [
    "from sklearn.metrics import accuracy_score\n",
    "print('Accuracy for train SVC is: ', round(accuracy_score( y_train, y_predictions)*100, 2))"
   ]
  },
  {
   "cell_type": "markdown",
   "id": "defa079a",
   "metadata": {},
   "source": [
    "Im absolutely floored with these first results"
   ]
  },
  {
   "cell_type": "code",
   "execution_count": 29,
   "id": "043205f0",
   "metadata": {},
   "outputs": [
    {
     "name": "stdout",
     "output_type": "stream",
     "text": [
      "Accuracy for validate SVC is:  74.45\n"
     ]
    }
   ],
   "source": [
    "print('Accuracy for validate SVC is: ', round(accuracy_score( y_validate, y_pred)*100,2))"
   ]
  },
  {
   "cell_type": "markdown",
   "id": "26db3a71",
   "metadata": {},
   "source": [
    "Looks like im seeing some overfitting, my exploration of SVM did say that this overfits frequently. With that being said it still beats baseline.\n"
   ]
  },
  {
   "cell_type": "markdown",
   "id": "fe0d94f6",
   "metadata": {},
   "source": [
    "# Logistic Regression"
   ]
  },
  {
   "cell_type": "code",
   "execution_count": 30,
   "id": "469ce4fa",
   "metadata": {},
   "outputs": [],
   "source": [
    "from sklearn.linear_model import LogisticRegression\n",
    "\n",
    "# i need the logistic regression model to use one vs rest because it was not originally designed for multiclass classification\n",
    "# solver lbfgs was used to help with multi class multinomial loss\n",
    "clf = LogisticRegression(C=3, multi_class='ovr', solver ='lbfgs')\n",
    "\n",
    "prob = clf.fit(X_train,y_train)\n",
    "\n",
    "y_predictions = clf.predict(X_train)\n"
   ]
  },
  {
   "cell_type": "code",
   "execution_count": 31,
   "id": "c63b4947",
   "metadata": {},
   "outputs": [
    {
     "name": "stdout",
     "output_type": "stream",
     "text": [
      "Accuracy for train Logistic Regression is:  92.21\n"
     ]
    }
   ],
   "source": [
    "from sklearn.metrics import accuracy_score\n",
    "print('Accuracy for train Logistic Regression is: ', round(accuracy_score( y_train, y_predictions)*100,2))"
   ]
  },
  {
   "cell_type": "code",
   "execution_count": 32,
   "id": "67fe45eb",
   "metadata": {},
   "outputs": [
    {
     "name": "stdout",
     "output_type": "stream",
     "text": [
      "Accuracy for validate Logistic Regression is:  74.45\n"
     ]
    }
   ],
   "source": [
    "print('Accuracy for validate Logistic Regression is: ', round(accuracy_score( y_validate, y_pred)*100,2))"
   ]
  },
  {
   "cell_type": "markdown",
   "id": "b87ccf09",
   "metadata": {},
   "source": [
    "Were seeing less overfitting here, still floored with performance."
   ]
  },
  {
   "cell_type": "markdown",
   "id": "a97df977",
   "metadata": {},
   "source": [
    "# KNN\n",
    "Lets try KNN. "
   ]
  },
  {
   "cell_type": "code",
   "execution_count": 33,
   "id": "5e0737a0",
   "metadata": {},
   "outputs": [
    {
     "data": {
      "text/html": [
       "<div>\n",
       "<style scoped>\n",
       "    .dataframe tbody tr th:only-of-type {\n",
       "        vertical-align: middle;\n",
       "    }\n",
       "\n",
       "    .dataframe tbody tr th {\n",
       "        vertical-align: top;\n",
       "    }\n",
       "\n",
       "    .dataframe thead th {\n",
       "        text-align: right;\n",
       "    }\n",
       "</style>\n",
       "<table border=\"1\" class=\"dataframe\">\n",
       "  <thead>\n",
       "    <tr style=\"text-align: right;\">\n",
       "      <th></th>\n",
       "      <th>k</th>\n",
       "      <th>train_accuracy</th>\n",
       "      <th>validate_accuracy</th>\n",
       "      <th>accuracy_difference</th>\n",
       "    </tr>\n",
       "  </thead>\n",
       "  <tbody>\n",
       "    <tr>\n",
       "      <th>0</th>\n",
       "      <td>1</td>\n",
       "      <td>0.999</td>\n",
       "      <td>0.584</td>\n",
       "      <td>0.415</td>\n",
       "    </tr>\n",
       "    <tr>\n",
       "      <th>1</th>\n",
       "      <td>2</td>\n",
       "      <td>0.807</td>\n",
       "      <td>0.533</td>\n",
       "      <td>0.274</td>\n",
       "    </tr>\n",
       "    <tr>\n",
       "      <th>2</th>\n",
       "      <td>3</td>\n",
       "      <td>0.778</td>\n",
       "      <td>0.561</td>\n",
       "      <td>0.217</td>\n",
       "    </tr>\n",
       "    <tr>\n",
       "      <th>3</th>\n",
       "      <td>4</td>\n",
       "      <td>0.746</td>\n",
       "      <td>0.567</td>\n",
       "      <td>0.179</td>\n",
       "    </tr>\n",
       "    <tr>\n",
       "      <th>4</th>\n",
       "      <td>5</td>\n",
       "      <td>0.737</td>\n",
       "      <td>0.574</td>\n",
       "      <td>0.163</td>\n",
       "    </tr>\n",
       "    <tr>\n",
       "      <th>5</th>\n",
       "      <td>6</td>\n",
       "      <td>0.732</td>\n",
       "      <td>0.594</td>\n",
       "      <td>0.138</td>\n",
       "    </tr>\n",
       "    <tr>\n",
       "      <th>6</th>\n",
       "      <td>7</td>\n",
       "      <td>0.724</td>\n",
       "      <td>0.598</td>\n",
       "      <td>0.126</td>\n",
       "    </tr>\n",
       "    <tr>\n",
       "      <th>7</th>\n",
       "      <td>8</td>\n",
       "      <td>0.726</td>\n",
       "      <td>0.616</td>\n",
       "      <td>0.110</td>\n",
       "    </tr>\n",
       "    <tr>\n",
       "      <th>8</th>\n",
       "      <td>9</td>\n",
       "      <td>0.729</td>\n",
       "      <td>0.622</td>\n",
       "      <td>0.107</td>\n",
       "    </tr>\n",
       "    <tr>\n",
       "      <th>9</th>\n",
       "      <td>10</td>\n",
       "      <td>0.737</td>\n",
       "      <td>0.637</td>\n",
       "      <td>0.100</td>\n",
       "    </tr>\n",
       "    <tr>\n",
       "      <th>10</th>\n",
       "      <td>11</td>\n",
       "      <td>0.738</td>\n",
       "      <td>0.645</td>\n",
       "      <td>0.093</td>\n",
       "    </tr>\n",
       "    <tr>\n",
       "      <th>11</th>\n",
       "      <td>12</td>\n",
       "      <td>0.741</td>\n",
       "      <td>0.655</td>\n",
       "      <td>0.086</td>\n",
       "    </tr>\n",
       "    <tr>\n",
       "      <th>12</th>\n",
       "      <td>13</td>\n",
       "      <td>0.739</td>\n",
       "      <td>0.659</td>\n",
       "      <td>0.080</td>\n",
       "    </tr>\n",
       "    <tr>\n",
       "      <th>13</th>\n",
       "      <td>14</td>\n",
       "      <td>0.745</td>\n",
       "      <td>0.660</td>\n",
       "      <td>0.085</td>\n",
       "    </tr>\n",
       "    <tr>\n",
       "      <th>14</th>\n",
       "      <td>15</td>\n",
       "      <td>0.745</td>\n",
       "      <td>0.666</td>\n",
       "      <td>0.079</td>\n",
       "    </tr>\n",
       "    <tr>\n",
       "      <th>15</th>\n",
       "      <td>16</td>\n",
       "      <td>0.748</td>\n",
       "      <td>0.670</td>\n",
       "      <td>0.078</td>\n",
       "    </tr>\n",
       "    <tr>\n",
       "      <th>16</th>\n",
       "      <td>17</td>\n",
       "      <td>0.747</td>\n",
       "      <td>0.672</td>\n",
       "      <td>0.075</td>\n",
       "    </tr>\n",
       "    <tr>\n",
       "      <th>17</th>\n",
       "      <td>18</td>\n",
       "      <td>0.746</td>\n",
       "      <td>0.679</td>\n",
       "      <td>0.067</td>\n",
       "    </tr>\n",
       "    <tr>\n",
       "      <th>18</th>\n",
       "      <td>19</td>\n",
       "      <td>0.746</td>\n",
       "      <td>0.678</td>\n",
       "      <td>0.068</td>\n",
       "    </tr>\n",
       "    <tr>\n",
       "      <th>19</th>\n",
       "      <td>20</td>\n",
       "      <td>0.743</td>\n",
       "      <td>0.677</td>\n",
       "      <td>0.066</td>\n",
       "    </tr>\n",
       "  </tbody>\n",
       "</table>\n",
       "</div>"
      ],
      "text/plain": [
       "     k  train_accuracy  validate_accuracy  accuracy_difference\n",
       "0    1           0.999              0.584                0.415\n",
       "1    2           0.807              0.533                0.274\n",
       "2    3           0.778              0.561                0.217\n",
       "3    4           0.746              0.567                0.179\n",
       "4    5           0.737              0.574                0.163\n",
       "5    6           0.732              0.594                0.138\n",
       "6    7           0.724              0.598                0.126\n",
       "7    8           0.726              0.616                0.110\n",
       "8    9           0.729              0.622                0.107\n",
       "9   10           0.737              0.637                0.100\n",
       "10  11           0.738              0.645                0.093\n",
       "11  12           0.741              0.655                0.086\n",
       "12  13           0.739              0.659                0.080\n",
       "13  14           0.745              0.660                0.085\n",
       "14  15           0.745              0.666                0.079\n",
       "15  16           0.748              0.670                0.078\n",
       "16  17           0.747              0.672                0.075\n",
       "17  18           0.746              0.679                0.067\n",
       "18  19           0.746              0.678                0.068\n",
       "19  20           0.743              0.677                0.066"
      ]
     },
     "execution_count": 33,
     "metadata": {},
     "output_type": "execute_result"
    }
   ],
   "source": [
    "from sklearn.neighbors import KNeighborsClassifier\n",
    "import sklearn.metrics\n",
    "\n",
    "metrics = []\n",
    "\n",
    "# loop through different values of k\n",
    "for k in range(1, 21):\n",
    "            \n",
    "    # define the thing\n",
    "    knn = KNeighborsClassifier(n_neighbors=k)\n",
    "    \n",
    "    # fit the thing (remmeber only fit on training data)\n",
    "    knn.fit(X_train, y_train)\n",
    "    \n",
    "    y_predictions = knn.predict(X_train)\n",
    "    y_pred = knn.predict(X_validate)\n",
    "    # use the thing (calculate accuracy)\n",
    "    train_accuracy = round(knn.score(X_train, y_train),3)\n",
    "    validate_accuracy = round(knn.score(X_validate, y_validate),3)\n",
    "    train_recall = sklearn.metrics.recall_score(y_train, y_predictions, pos_label =0, average='micro')\n",
    "    validate_recall = sklearn.metrics.recall_score(y_validate, y_pred, pos_label =0, average='micro')\n",
    "    output = {\n",
    "        \"k\": k,\n",
    "        \"train_accuracy\": train_accuracy,\n",
    "        \"validate_accuracy\": validate_accuracy,\n",
    "    }\n",
    "    \n",
    "    metrics.append(output)\n",
    "\n",
    "# make a dataframe\n",
    "\n",
    "results = pd.DataFrame(metrics)\n",
    "results[\"accuracy_difference\"] = results.train_accuracy - results.validate_accuracy\n",
    "results"
   ]
  },
  {
   "cell_type": "markdown",
   "id": "0ddc1d47",
   "metadata": {},
   "source": [
    "This is *100%* a curse of dimensionality, were trying to feed in 1,300+ variables, Maybe furture iterations I can use only the top 10 - 25 words for each card to limit the dimensionality. Still performs better than baseline though!"
   ]
  },
  {
   "cell_type": "markdown",
   "id": "739b7ffe",
   "metadata": {},
   "source": [
    "# Random Forrest"
   ]
  },
  {
   "cell_type": "code",
   "execution_count": null,
   "id": "7976f754",
   "metadata": {},
   "outputs": [],
   "source": [
    "from sklearn.ensemble import RandomForestClassifier\n",
    "## Create a for loop that creates 20 Random Forrest models with increasingly larger depths.\n",
    "metrics2 = []\n",
    "forest_models = []\n",
    "for i in range(2, 50):\n",
    "    # Make the model\n",
    "    forest = RandomForestClassifier(max_depth=i, random_state=123)\n",
    "\n",
    "    # Fit the model (on train and only train)\n",
    "    forest = forest.fit(X_train, y_train)\n",
    "    \n",
    "    y_predictions = forest.predict(X_train)\n",
    "    y_pred = forest.predict(X_validate)\n",
    "    \n",
    "    # Use the model\n",
    "    in_sample_accuracy = round(forest.score(X_train, y_train),3)\n",
    "    \n",
    "    out_of_sample_accuracy = round(forest.score(X_validate, y_validate),3)\n",
    "    \n",
    "    in_sample_recall = round(sklearn.metrics.recall_score(y_train, y_predictions, pos_label =0,average='micro'),3)\n",
    "    \n",
    "    out_of_sample_recall = round(sklearn.metrics.recall_score(y_validate, y_pred, pos_label =0,average='micro'),3)\n",
    "    \n",
    "    output = {\n",
    "        \"max_depth\": i,\n",
    "        \"train_accuracy\": in_sample_accuracy,\n",
    "        \"validate_accuracy\": out_of_sample_accuracy,\n",
    "    }\n",
    "    \n",
    "    # This creates the df below\n",
    "    metrics2.append(output)\n",
    "    # tree_models will store all of my tree models incase i want them later\n",
    "    forest_models.append(forest)\n",
    "    \n",
    "    \n",
    "    \n",
    "forest_df = pd.DataFrame(metrics2)\n",
    "forest_df[\"accuracy_difference\"] = forest_df.train_accuracy - forest_df.validate_accuracy\n",
    "forest_df"
   ]
  },
  {
   "cell_type": "markdown",
   "id": "8c7eed2c",
   "metadata": {},
   "source": [
    "Looks like our effectivness plateaus between 25-35 forrest with only marginal increases, lots of overfitting here, future iterations I'll definitly look at trimming the tress."
   ]
  },
  {
   "cell_type": "code",
   "execution_count": null,
   "id": "9aa59698",
   "metadata": {},
   "outputs": [],
   "source": [
    "# Decision Tree"
   ]
  },
  {
   "cell_type": "code",
   "execution_count": null,
   "id": "4e382090",
   "metadata": {},
   "outputs": [],
   "source": [
    "from sklearn.tree import DecisionTreeClassifier\n",
    "## Create a for loop that creates 20 decision tree models with increasingly larger depths.\n",
    "metrics = []\n",
    "tree_models = []\n",
    "for i in range(2, 38):\n",
    "    # Make the model\n",
    "    tree = DecisionTreeClassifier(max_depth=i, random_state=123)\n",
    "\n",
    "    # Fit the model (on train and only train)\n",
    "    tree = tree.fit(X_train, y_train)\n",
    "    y_predictions = tree.predict(X_train)\n",
    "    y_pred = tree.predict(X_validate)\n",
    "    # Use the model\n",
    "    in_sample_accuracy = round(tree.score(X_train, y_train),3)\n",
    "    \n",
    "    out_of_sample_accuracy = round(tree.score(X_validate, y_validate),3)\n",
    "    \n",
    "    in_sample_recall = round(sklearn.metrics.recall_score(y_train, y_predictions, pos_label =0,average='micro'),3)\n",
    "    \n",
    "    out_of_sample_recall = round(sklearn.metrics.recall_score(y_validate, y_pred, pos_label =0,average='micro'),3)\n",
    "    output = {\n",
    "        \"max_depth\": i,\n",
    "        \"train_accuracy\": in_sample_accuracy,\n",
    "        \"validate_accuracy\": out_of_sample_accuracy\n",
    "    }\n",
    "    \n",
    "    # This creates the df below\n",
    "    metrics.append(output)\n",
    "    # tree_models will store all of my tree models incase i want them later\n",
    "    tree_models.append(tree)\n",
    "    \n",
    "tree_df = pd.DataFrame(metrics)\n",
    "tree_df[\"accuracy_difference\"] = tree_df.train_accuracy - tree_df.validate_accuracy\n",
    "tree_df"
   ]
  },
  {
   "cell_type": "markdown",
   "id": "d2dfb8ec",
   "metadata": {},
   "source": [
    "If the big brother couldnt handle the problem I did not have alot of hope for this model. We seem to plateau at about 27 trees with marginal increases, still better than basline, not better than logistic regression or support vector classifier."
   ]
  },
  {
   "cell_type": "markdown",
   "id": "5f685228",
   "metadata": {},
   "source": [
    "## Takeaways from Modeling\n",
    "- Svm is arguably our best performing model even if it is overfit on train\n",
    "- Logistic regression comes in a close second beating our baseline model by 42\n",
    "- Random Forrest, DEciesion Tree and Knn all beat baseline but could not compete with SVM or Logistic Regression\n"
   ]
  },
  {
   "cell_type": "markdown",
   "id": "16247359",
   "metadata": {},
   "source": [
    "# Testing the model"
   ]
  },
  {
   "cell_type": "markdown",
   "id": "d1d5cd3f",
   "metadata": {},
   "source": [
    "We're gonna test SVM "
   ]
  },
  {
   "cell_type": "code",
   "execution_count": null,
   "id": "c7cd57fb",
   "metadata": {},
   "outputs": [],
   "source": [
    "from sklearn import svm\n",
    "svm = svm.SVC(C= 3, decision_function_shape='ovo')\n",
    "\n",
    "prob = svm.fit(X_train,y_train)\n",
    "\n",
    "y_pred = svm.predict(X_test)\n",
    "\n",
    "print('Accuracy for test SVC is: ', round(accuracy_score( y_test, y_pred)*100,2))"
   ]
  },
  {
   "cell_type": "markdown",
   "id": "333eb967",
   "metadata": {},
   "source": [
    "# Conclusion \n",
    "- SVM was our best performing model beating our baseline by 45.22% on unseen data\n",
    "- These models were run using ONLY the text on the card to get to an mvp, Im confident future iterations will bring more accuracy with the inclusion of power, toughness, and converted mana cost, and creature type\n"
   ]
  },
  {
   "cell_type": "markdown",
   "id": "47285a13",
   "metadata": {},
   "source": [
    "# Given more time\n",
    "- As I mentioned in the conclusion future iterations will include creature type, power, toughness, and converted mana cost. \n",
    "- I would like to try stemming my word bag to see if it effects accuracy, these"
   ]
  }
 ],
 "metadata": {
  "kernelspec": {
   "display_name": "Python 3",
   "language": "python",
   "name": "python3"
  },
  "language_info": {
   "codemirror_mode": {
    "name": "ipython",
    "version": 3
   },
   "file_extension": ".py",
   "mimetype": "text/x-python",
   "name": "python",
   "nbconvert_exporter": "python",
   "pygments_lexer": "ipython3",
   "version": "3.8.8"
  }
 },
 "nbformat": 4,
 "nbformat_minor": 5
}

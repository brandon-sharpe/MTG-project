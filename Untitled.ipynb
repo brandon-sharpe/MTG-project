{
 "cells": [
  {
   "cell_type": "code",
   "execution_count": 1,
   "id": "5eef1e65",
   "metadata": {},
   "outputs": [],
   "source": [
    "import pandas as pd\n",
    "import numpy as np"
   ]
  },
  {
   "cell_type": "code",
   "execution_count": 19,
   "id": "ff120f09",
   "metadata": {},
   "outputs": [],
   "source": [
    "def vampyric_tutor():\n",
    "    '''This function will read in the locally stored csv file containing every MTG card'''\n",
    "    df = pd.read_csv('cards.csv')\n",
    "    return df\n",
    "def cyclonic_rift(df):    \n",
    "    '''This function takes in a dataframe of MTG cards, drops columns deemed irrelevant to the\n",
    "    goal(check README.MD for more info). Drops all online only cards, Reprints of cards, limits the card pool \n",
    "    to single color creature cards'''\n",
    "    # drop columns that are irrelevant to our goal.\n",
    "    df = df.drop(columns=\n",
    "            ['index',\n",
    "             'id',\n",
    "             'artist',\n",
    "             'asciiName',\n",
    "             'borderColor',\n",
    "             'cardKingdomEtchedId',\n",
    "             'cardKingdomFoilId',\n",
    "             'cardKingdomId',\n",
    "             'colorIndicator',\n",
    "             'duelDeck',\n",
    "             'edhrecRank',\n",
    "             'faceConvertedManaCost',\n",
    "             'faceManaValue', \n",
    "             'faceName',\n",
    "             'finishes',\n",
    "             'flavorName',\n",
    "             'flavorText',\n",
    "             'frameEffects',\n",
    "             'frameVersion',\n",
    "             'hand',\n",
    "             'hasAlternativeDeckLimit',\n",
    "             'hasContentWarning',\n",
    "             'hasFoil',\n",
    "             'hasNonFoil',\n",
    "             'isAlternative',\n",
    "             'isFullArt',\n",
    "             'isOversized',\n",
    "             'isPromo',\n",
    "             'isReserved',\n",
    "             'isStarter',\n",
    "             'isStorySpotlight',\n",
    "             'isTextless',\n",
    "             'isTimeshifted',\n",
    "             'leadershipSkills',\n",
    "             'life',\n",
    "             'loyalty',\n",
    "             'mcmId',\n",
    "             'mcmMetaId',\n",
    "             'mtgArenaId',\n",
    "             'mtgjsonV4Id',\n",
    "             'mtgoFoilId',\n",
    "             'mtgoId',\n",
    "             'multiverseId',\n",
    "             'originalReleaseDate',\n",
    "             'otherFaceIds', \n",
    "             'promoTypes',\n",
    "             'purchaseUrls',\n",
    "             'scryfallId', \n",
    "             'scryfallIllustrationId',\n",
    "             'scryfallOracleId',\n",
    "             'side',\n",
    "             'tcgplayerEtchedProductId',\n",
    "             'tcgplayerProductId',\n",
    "             'uuid',\n",
    "             'variations',\n",
    "             'watermark',\n",
    "             'layout',\n",
    "             'number',\n",
    "             'printings',\n",
    "             'originalText',\n",
    "             'originalType',\n",
    "             'convertedManaCost',\n",
    "             'manaCost'])\n",
    "\n",
    "    # drop cards that are only available online then drop the column\n",
    "    df = df[df.isOnlineOnly==0]\n",
    "    df = df.drop(columns=\n",
    "            ['availability',\n",
    "             'isOnlineOnly'])\n",
    "\n",
    "    # drop all duplications and reprints of cards then drop the column\n",
    "    df = df[df.isReprint==0]\n",
    "    df = df.drop(columns=\n",
    "            ['isReprint'])\n",
    "\n",
    "    # makes the df contain only creature type cards\n",
    "    df = df[df.types.str.contains('Creature', regex=False)]\n",
    "\n",
    "    # makes a new color for colorless createarues\n",
    "    df.colorIdentity.fillna(value= \"C\", inplace=True)\n",
    "    df.colors.fillna(value= \"C\", inplace=True)\n",
    "\n",
    "    #for the first iteration i will only be focusing on creatres with a single color identity \n",
    "    df = df[df.colorIdentity.str.len() == 1]\n",
    "    # drop unhinged, unstable, unsanctioned and unglued sets from the data sets as these were joke releases \n",
    "    df = df[(df.setCode != 'UST')&(df.setCode !='UNH')&(df.setCode !='UND')&(df.setCode !='UGL')]\n",
    "    df = df.drop(columns=\n",
    "            ['setCode',\n",
    "            'colorIdentity',\n",
    "            'types',\n",
    "            'type'])\n",
    "    return df\n",
    "def wrangle():\n",
    "    '''Returns cleaned and prepped dataframe'''\n",
    "    df = vampyric_tutor()\n",
    "    df =  cyclonic_rift(df)\n",
    "    return df\n",
    "    \n",
    "    "
   ]
  },
  {
   "cell_type": "code",
   "execution_count": 20,
   "id": "074753f3",
   "metadata": {},
   "outputs": [
    {
     "name": "stderr",
     "output_type": "stream",
     "text": [
      "/opt/homebrew/anaconda3/lib/python3.8/site-packages/IPython/core/interactiveshell.py:3437: DtypeWarning: Columns (3,13,19,22,43,55) have mixed types.Specify dtype option on import or set low_memory=False.\n",
      "  exec(code_obj, self.user_global_ns, self.user_ns)\n"
     ]
    }
   ],
   "source": [
    "df = wrangle()"
   ]
  },
  {
   "cell_type": "code",
   "execution_count": 21,
   "id": "54b46f3e",
   "metadata": {},
   "outputs": [
    {
     "data": {
      "text/html": [
       "<div>\n",
       "<style scoped>\n",
       "    .dataframe tbody tr th:only-of-type {\n",
       "        vertical-align: middle;\n",
       "    }\n",
       "\n",
       "    .dataframe tbody tr th {\n",
       "        vertical-align: top;\n",
       "    }\n",
       "\n",
       "    .dataframe thead th {\n",
       "        text-align: right;\n",
       "    }\n",
       "</style>\n",
       "<table border=\"1\" class=\"dataframe\">\n",
       "  <thead>\n",
       "    <tr style=\"text-align: right;\">\n",
       "      <th></th>\n",
       "      <th>colors</th>\n",
       "      <th>keywords</th>\n",
       "      <th>manaValue</th>\n",
       "      <th>name</th>\n",
       "      <th>power</th>\n",
       "      <th>rarity</th>\n",
       "      <th>subtypes</th>\n",
       "      <th>supertypes</th>\n",
       "      <th>text</th>\n",
       "      <th>toughness</th>\n",
       "    </tr>\n",
       "  </thead>\n",
       "  <tbody>\n",
       "    <tr>\n",
       "      <th>2259</th>\n",
       "      <td>W</td>\n",
       "      <td>Protection</td>\n",
       "      <td>2.0</td>\n",
       "      <td>Auriok Champion</td>\n",
       "      <td>1</td>\n",
       "      <td>rare</td>\n",
       "      <td>Human,Cleric</td>\n",
       "      <td>NaN</td>\n",
       "      <td>Protection from black and from red\\nWhenever a...</td>\n",
       "      <td>1</td>\n",
       "    </tr>\n",
       "    <tr>\n",
       "      <th>2260</th>\n",
       "      <td>W</td>\n",
       "      <td>NaN</td>\n",
       "      <td>4.0</td>\n",
       "      <td>Auriok Salvagers</td>\n",
       "      <td>2</td>\n",
       "      <td>uncommon</td>\n",
       "      <td>Human,Soldier</td>\n",
       "      <td>NaN</td>\n",
       "      <td>{1}{W}: Return target artifact card with mana ...</td>\n",
       "      <td>4</td>\n",
       "    </tr>\n",
       "    <tr>\n",
       "      <th>2261</th>\n",
       "      <td>W</td>\n",
       "      <td>Flying</td>\n",
       "      <td>4.0</td>\n",
       "      <td>Auriok Windwalker</td>\n",
       "      <td>2</td>\n",
       "      <td>rare</td>\n",
       "      <td>Human,Wizard</td>\n",
       "      <td>NaN</td>\n",
       "      <td>Flying\\n{T}: Attach target Equipment you contr...</td>\n",
       "      <td>3</td>\n",
       "    </tr>\n",
       "    <tr>\n",
       "      <th>2265</th>\n",
       "      <td>W</td>\n",
       "      <td>NaN</td>\n",
       "      <td>2.0</td>\n",
       "      <td>Leonin Squire</td>\n",
       "      <td>2</td>\n",
       "      <td>common</td>\n",
       "      <td>Cat,Soldier</td>\n",
       "      <td>NaN</td>\n",
       "      <td>When Leonin Squire enters the battlefield, ret...</td>\n",
       "      <td>2</td>\n",
       "    </tr>\n",
       "    <tr>\n",
       "      <th>2266</th>\n",
       "      <td>W</td>\n",
       "      <td>NaN</td>\n",
       "      <td>4.0</td>\n",
       "      <td>Loxodon Anchorite</td>\n",
       "      <td>2</td>\n",
       "      <td>common</td>\n",
       "      <td>Elephant,Cleric</td>\n",
       "      <td>NaN</td>\n",
       "      <td>{T}: Prevent the next 2 damage that would be d...</td>\n",
       "      <td>3</td>\n",
       "    </tr>\n",
       "  </tbody>\n",
       "</table>\n",
       "</div>"
      ],
      "text/plain": [
       "     colors    keywords  manaValue               name power    rarity  \\\n",
       "2259      W  Protection        2.0    Auriok Champion     1      rare   \n",
       "2260      W         NaN        4.0   Auriok Salvagers     2  uncommon   \n",
       "2261      W      Flying        4.0  Auriok Windwalker     2      rare   \n",
       "2265      W         NaN        2.0      Leonin Squire     2    common   \n",
       "2266      W         NaN        4.0  Loxodon Anchorite     2    common   \n",
       "\n",
       "             subtypes supertypes  \\\n",
       "2259     Human,Cleric        NaN   \n",
       "2260    Human,Soldier        NaN   \n",
       "2261     Human,Wizard        NaN   \n",
       "2265      Cat,Soldier        NaN   \n",
       "2266  Elephant,Cleric        NaN   \n",
       "\n",
       "                                                   text toughness  \n",
       "2259  Protection from black and from red\\nWhenever a...         1  \n",
       "2260  {1}{W}: Return target artifact card with mana ...         4  \n",
       "2261  Flying\\n{T}: Attach target Equipment you contr...         3  \n",
       "2265  When Leonin Squire enters the battlefield, ret...         2  \n",
       "2266  {T}: Prevent the next 2 damage that would be d...         3  "
      ]
     },
     "execution_count": 21,
     "metadata": {},
     "output_type": "execute_result"
    }
   ],
   "source": [
    "df.head()"
   ]
  },
  {
   "cell_type": "code",
   "execution_count": null,
   "id": "251fbfa7",
   "metadata": {},
   "outputs": [],
   "source": [
    "df.keywords.fillna(value= \"None\", inplace=True)"
   ]
  },
  {
   "cell_type": "code",
   "execution_count": null,
   "id": "c33886af",
   "metadata": {},
   "outputs": [],
   "source": [
    "df.head()"
   ]
  },
  {
   "cell_type": "code",
   "execution_count": null,
   "id": "205b85a9",
   "metadata": {},
   "outputs": [],
   "source": [
    "df.shape"
   ]
  },
  {
   "cell_type": "code",
   "execution_count": null,
   "id": "fc2067a1",
   "metadata": {},
   "outputs": [],
   "source": [
    "df.isnull().sum()"
   ]
  },
  {
   "cell_type": "code",
   "execution_count": null,
   "id": "2b9c2876",
   "metadata": {},
   "outputs": [],
   "source": [
    "df.supertypes.fillna(value= \"None\", inplace=True)"
   ]
  },
  {
   "cell_type": "code",
   "execution_count": null,
   "id": "c36869e5",
   "metadata": {},
   "outputs": [],
   "source": [
    "df.isnull().sum()"
   ]
  },
  {
   "cell_type": "code",
   "execution_count": null,
   "id": "3d3a59b3",
   "metadata": {},
   "outputs": [],
   "source": [
    "df[df.subtypes.isnull()]"
   ]
  },
  {
   "cell_type": "code",
   "execution_count": null,
   "id": "d3bf2608",
   "metadata": {},
   "outputs": [],
   "source": [
    "df.subtypes.fillna(value= \"Namless\", inplace=True)"
   ]
  },
  {
   "cell_type": "code",
   "execution_count": null,
   "id": "7d697255",
   "metadata": {},
   "outputs": [],
   "source": [
    "df.isnull().sum()"
   ]
  },
  {
   "cell_type": "code",
   "execution_count": null,
   "id": "8c697364",
   "metadata": {},
   "outputs": [],
   "source": [
    "df[df.text.isnull()]"
   ]
  },
  {
   "cell_type": "code",
   "execution_count": null,
   "id": "7c98ccd8",
   "metadata": {},
   "outputs": [],
   "source": [
    "df.text.fillna(value= \"\", inplace=True)"
   ]
  },
  {
   "cell_type": "code",
   "execution_count": null,
   "id": "40499f41",
   "metadata": {},
   "outputs": [],
   "source": [
    "df.isnull().sum()"
   ]
  },
  {
   "cell_type": "code",
   "execution_count": null,
   "id": "aa10a365",
   "metadata": {},
   "outputs": [],
   "source": [
    "df.shape"
   ]
  },
  {
   "cell_type": "code",
   "execution_count": null,
   "id": "2bd1ce96",
   "metadata": {},
   "outputs": [],
   "source": [
    "df.colors.hist()"
   ]
  },
  {
   "cell_type": "code",
   "execution_count": null,
   "id": "dbed0100",
   "metadata": {},
   "outputs": [],
   "source": [
    "df = df[df.colors != \"C\"]"
   ]
  },
  {
   "cell_type": "code",
   "execution_count": null,
   "id": "ee5ba612",
   "metadata": {},
   "outputs": [],
   "source": [
    "df.colors.hist()"
   ]
  },
  {
   "cell_type": "code",
   "execution_count": null,
   "id": "d15d4a72",
   "metadata": {},
   "outputs": [],
   "source": [
    "print(pd.DataFrame([{'Feature': col,\n",
    "         'Datatype': f'{df[col].count()} non-null: {df[col].dtype}',\n",
    "        'Definition' : ''} for col in df.columns]).set_index('Feature').to_markdown())"
   ]
  },
  {
   "cell_type": "code",
   "execution_count": null,
   "id": "e2a0be64",
   "metadata": {},
   "outputs": [],
   "source": []
  }
 ],
 "metadata": {
  "kernelspec": {
   "display_name": "Python 3",
   "language": "python",
   "name": "python3"
  },
  "language_info": {
   "codemirror_mode": {
    "name": "ipython",
    "version": 3
   },
   "file_extension": ".py",
   "mimetype": "text/x-python",
   "name": "python",
   "nbconvert_exporter": "python",
   "pygments_lexer": "ipython3",
   "version": "3.8.8"
  }
 },
 "nbformat": 4,
 "nbformat_minor": 5
}

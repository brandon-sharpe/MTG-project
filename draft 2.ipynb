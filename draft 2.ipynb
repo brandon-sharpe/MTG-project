{
 "cells": [
  {
   "cell_type": "code",
   "execution_count": 1,
   "id": "440a5c1a",
   "metadata": {},
   "outputs": [],
   "source": [
    "import pandas as pd\n",
    "import numpy as np\n",
    "from wrangle import wrangle\n",
    "import re\n",
    "import warnings\n",
    "import nltk\n",
    "from nltk.tokenize.toktok import ToktokTokenizer\n",
    "\n",
    "import numpy as np\n",
    "import matplotlib.pyplot as plt\n",
    "warnings.filterwarnings('ignore')"
   ]
  },
  {
   "cell_type": "code",
   "execution_count": 2,
   "id": "ed14ab9d",
   "metadata": {},
   "outputs": [],
   "source": [
    "df = wrangle()"
   ]
  },
  {
   "cell_type": "code",
   "execution_count": 3,
   "id": "0e97fbd6",
   "metadata": {},
   "outputs": [
    {
     "data": {
      "text/html": [
       "<div>\n",
       "<style scoped>\n",
       "    .dataframe tbody tr th:only-of-type {\n",
       "        vertical-align: middle;\n",
       "    }\n",
       "\n",
       "    .dataframe tbody tr th {\n",
       "        vertical-align: top;\n",
       "    }\n",
       "\n",
       "    .dataframe thead th {\n",
       "        text-align: right;\n",
       "    }\n",
       "</style>\n",
       "<table border=\"1\" class=\"dataframe\">\n",
       "  <thead>\n",
       "    <tr style=\"text-align: right;\">\n",
       "      <th></th>\n",
       "      <th>colors</th>\n",
       "      <th>keywords</th>\n",
       "      <th>manaValue</th>\n",
       "      <th>name</th>\n",
       "      <th>power</th>\n",
       "      <th>rarity</th>\n",
       "      <th>subtypes</th>\n",
       "      <th>supertypes</th>\n",
       "      <th>text</th>\n",
       "      <th>toughness</th>\n",
       "    </tr>\n",
       "  </thead>\n",
       "  <tbody>\n",
       "    <tr>\n",
       "      <th>0</th>\n",
       "      <td>W</td>\n",
       "      <td>Protection</td>\n",
       "      <td>2.0</td>\n",
       "      <td>Auriok Champion</td>\n",
       "      <td>1</td>\n",
       "      <td>rare</td>\n",
       "      <td>Human,Cleric</td>\n",
       "      <td>None</td>\n",
       "      <td>Protection from black and from red Whenever an...</td>\n",
       "      <td>1</td>\n",
       "    </tr>\n",
       "    <tr>\n",
       "      <th>1</th>\n",
       "      <td>W</td>\n",
       "      <td>None</td>\n",
       "      <td>4.0</td>\n",
       "      <td>Auriok Salvagers</td>\n",
       "      <td>2</td>\n",
       "      <td>uncommon</td>\n",
       "      <td>Human,Soldier</td>\n",
       "      <td>None</td>\n",
       "      <td>{1}{1}: Return target artifact card with mana ...</td>\n",
       "      <td>4</td>\n",
       "    </tr>\n",
       "    <tr>\n",
       "      <th>2</th>\n",
       "      <td>W</td>\n",
       "      <td>Flying</td>\n",
       "      <td>4.0</td>\n",
       "      <td>Auriok Windwalker</td>\n",
       "      <td>2</td>\n",
       "      <td>rare</td>\n",
       "      <td>Human,Wizard</td>\n",
       "      <td>None</td>\n",
       "      <td>Flying Tap : Attach target Equipment you contr...</td>\n",
       "      <td>3</td>\n",
       "    </tr>\n",
       "    <tr>\n",
       "      <th>3</th>\n",
       "      <td>W</td>\n",
       "      <td>None</td>\n",
       "      <td>2.0</td>\n",
       "      <td>Leonin Squire</td>\n",
       "      <td>2</td>\n",
       "      <td>common</td>\n",
       "      <td>Cat,Soldier</td>\n",
       "      <td>None</td>\n",
       "      <td>When this card enters the battlefield, return ...</td>\n",
       "      <td>2</td>\n",
       "    </tr>\n",
       "    <tr>\n",
       "      <th>4</th>\n",
       "      <td>W</td>\n",
       "      <td>None</td>\n",
       "      <td>4.0</td>\n",
       "      <td>Loxodon Anchorite</td>\n",
       "      <td>2</td>\n",
       "      <td>common</td>\n",
       "      <td>Elephant,Cleric</td>\n",
       "      <td>None</td>\n",
       "      <td>Tap : Prevent the next 2 damage that would be ...</td>\n",
       "      <td>3</td>\n",
       "    </tr>\n",
       "  </tbody>\n",
       "</table>\n",
       "</div>"
      ],
      "text/plain": [
       "  colors    keywords  manaValue               name power    rarity  \\\n",
       "0      W  Protection        2.0    Auriok Champion     1      rare   \n",
       "1      W        None        4.0   Auriok Salvagers     2  uncommon   \n",
       "2      W      Flying        4.0  Auriok Windwalker     2      rare   \n",
       "3      W        None        2.0      Leonin Squire     2    common   \n",
       "4      W        None        4.0  Loxodon Anchorite     2    common   \n",
       "\n",
       "          subtypes supertypes  \\\n",
       "0     Human,Cleric       None   \n",
       "1    Human,Soldier       None   \n",
       "2     Human,Wizard       None   \n",
       "3      Cat,Soldier       None   \n",
       "4  Elephant,Cleric       None   \n",
       "\n",
       "                                                text toughness  \n",
       "0  Protection from black and from red Whenever an...         1  \n",
       "1  {1}{1}: Return target artifact card with mana ...         4  \n",
       "2  Flying Tap : Attach target Equipment you contr...         3  \n",
       "3  When this card enters the battlefield, return ...         2  \n",
       "4  Tap : Prevent the next 2 damage that would be ...         3  "
      ]
     },
     "execution_count": 3,
     "metadata": {},
     "output_type": "execute_result"
    }
   ],
   "source": [
    "df.head()"
   ]
  },
  {
   "cell_type": "code",
   "execution_count": 4,
   "id": "01f23ce8",
   "metadata": {},
   "outputs": [
    {
     "data": {
      "text/plain": [
       "'Flying Tap : Attach target Equipment you control to target creature you control.'"
      ]
     },
     "execution_count": 4,
     "metadata": {},
     "output_type": "execute_result"
    }
   ],
   "source": [
    "\n",
    "df.text[2]"
   ]
  },
  {
   "cell_type": "code",
   "execution_count": 5,
   "id": "14199747",
   "metadata": {},
   "outputs": [
    {
     "data": {
      "text/plain": [
       "'Flying Tap : Attach target Equipment you control to target creature you control.'"
      ]
     },
     "execution_count": 5,
     "metadata": {},
     "output_type": "execute_result"
    }
   ],
   "source": [
    "\n",
    "# fix errors\n",
    "\n",
    "df['text'].replace(\"\\n\" , \" \", inplace=True, regex=True)\n",
    "df['text'].replace(\"\\'\" , \"\", inplace=True, regex=True)\n",
    "\n",
    "df['text'][2]"
   ]
  },
  {
   "cell_type": "code",
   "execution_count": 6,
   "id": "198de6b0",
   "metadata": {},
   "outputs": [
    {
     "data": {
      "text/plain": [
       "'Flying Tap : Attach target Equipment you control to target creature you control.'"
      ]
     },
     "execution_count": 6,
     "metadata": {},
     "output_type": "execute_result"
    }
   ],
   "source": [
    "re.sub(\"{[A-Z]}\" , \"{1}\", df.text[2])"
   ]
  },
  {
   "cell_type": "code",
   "execution_count": 7,
   "id": "81b737e3",
   "metadata": {},
   "outputs": [],
   "source": [
    "# remove resource symbols from all cards \n",
    "\n",
    "def tap(x):\n",
    "    '''This function searches for the Tap symbol and replaces it with the word Tap '''\n",
    "    return re.sub(\"{T}\" , \"Tap \", x)\n",
    "\n",
    "def remove_mana(x):\n",
    "    '''This function searches for mana symbols within the card and replaces it with a 1'''\n",
    "    return re.sub(\"{[A-Z]}\" , \"{1}\", x)\n"
   ]
  },
  {
   "cell_type": "code",
   "execution_count": 8,
   "id": "64f34009",
   "metadata": {},
   "outputs": [],
   "source": [
    "# we had to search the text for the tap symbol to effectivley use nlp and so it didnt hurt the remove mana funtion\n",
    "df.text = df.text.apply(tap)"
   ]
  },
  {
   "cell_type": "code",
   "execution_count": 9,
   "id": "1845588b",
   "metadata": {},
   "outputs": [],
   "source": [
    "# we had to remove the mana symbols from the text of the card because it is leaked data \n",
    "df.text = df.text.apply(remove_mana)"
   ]
  },
  {
   "cell_type": "code",
   "execution_count": 10,
   "id": "066e3276",
   "metadata": {},
   "outputs": [],
   "source": [
    "\n",
    "# remove card names from all cards  \n",
    "def remove_name(df):\n",
    "    '''This function removes the cards name from the text to avoid overfitting and replaces it with this card'''\n",
    "    for i in range(len(df)):\n",
    "        df['text'][i] = re.sub(df['name'][i] , \"this card\", df['text'][i])\n",
    "    return df"
   ]
  },
  {
   "cell_type": "code",
   "execution_count": 11,
   "id": "d3e83d99",
   "metadata": {},
   "outputs": [
    {
     "data": {
      "text/html": [
       "<div>\n",
       "<style scoped>\n",
       "    .dataframe tbody tr th:only-of-type {\n",
       "        vertical-align: middle;\n",
       "    }\n",
       "\n",
       "    .dataframe tbody tr th {\n",
       "        vertical-align: top;\n",
       "    }\n",
       "\n",
       "    .dataframe thead th {\n",
       "        text-align: right;\n",
       "    }\n",
       "</style>\n",
       "<table border=\"1\" class=\"dataframe\">\n",
       "  <thead>\n",
       "    <tr style=\"text-align: right;\">\n",
       "      <th></th>\n",
       "      <th>colors</th>\n",
       "      <th>keywords</th>\n",
       "      <th>manaValue</th>\n",
       "      <th>name</th>\n",
       "      <th>power</th>\n",
       "      <th>rarity</th>\n",
       "      <th>subtypes</th>\n",
       "      <th>supertypes</th>\n",
       "      <th>text</th>\n",
       "      <th>toughness</th>\n",
       "    </tr>\n",
       "  </thead>\n",
       "  <tbody>\n",
       "    <tr>\n",
       "      <th>0</th>\n",
       "      <td>W</td>\n",
       "      <td>Protection</td>\n",
       "      <td>2.0</td>\n",
       "      <td>Auriok Champion</td>\n",
       "      <td>1</td>\n",
       "      <td>rare</td>\n",
       "      <td>Human,Cleric</td>\n",
       "      <td>None</td>\n",
       "      <td>Protection from black and from red Whenever an...</td>\n",
       "      <td>1</td>\n",
       "    </tr>\n",
       "    <tr>\n",
       "      <th>1</th>\n",
       "      <td>W</td>\n",
       "      <td>None</td>\n",
       "      <td>4.0</td>\n",
       "      <td>Auriok Salvagers</td>\n",
       "      <td>2</td>\n",
       "      <td>uncommon</td>\n",
       "      <td>Human,Soldier</td>\n",
       "      <td>None</td>\n",
       "      <td>{1}{1}: Return target artifact card with mana ...</td>\n",
       "      <td>4</td>\n",
       "    </tr>\n",
       "    <tr>\n",
       "      <th>2</th>\n",
       "      <td>W</td>\n",
       "      <td>Flying</td>\n",
       "      <td>4.0</td>\n",
       "      <td>Auriok Windwalker</td>\n",
       "      <td>2</td>\n",
       "      <td>rare</td>\n",
       "      <td>Human,Wizard</td>\n",
       "      <td>None</td>\n",
       "      <td>Flying Tap : Attach target Equipment you contr...</td>\n",
       "      <td>3</td>\n",
       "    </tr>\n",
       "    <tr>\n",
       "      <th>3</th>\n",
       "      <td>W</td>\n",
       "      <td>None</td>\n",
       "      <td>2.0</td>\n",
       "      <td>Leonin Squire</td>\n",
       "      <td>2</td>\n",
       "      <td>common</td>\n",
       "      <td>Cat,Soldier</td>\n",
       "      <td>None</td>\n",
       "      <td>When this card enters the battlefield, return ...</td>\n",
       "      <td>2</td>\n",
       "    </tr>\n",
       "    <tr>\n",
       "      <th>4</th>\n",
       "      <td>W</td>\n",
       "      <td>None</td>\n",
       "      <td>4.0</td>\n",
       "      <td>Loxodon Anchorite</td>\n",
       "      <td>2</td>\n",
       "      <td>common</td>\n",
       "      <td>Elephant,Cleric</td>\n",
       "      <td>None</td>\n",
       "      <td>Tap : Prevent the next 2 damage that would be ...</td>\n",
       "      <td>3</td>\n",
       "    </tr>\n",
       "  </tbody>\n",
       "</table>\n",
       "</div>"
      ],
      "text/plain": [
       "  colors    keywords  manaValue               name power    rarity  \\\n",
       "0      W  Protection        2.0    Auriok Champion     1      rare   \n",
       "1      W        None        4.0   Auriok Salvagers     2  uncommon   \n",
       "2      W      Flying        4.0  Auriok Windwalker     2      rare   \n",
       "3      W        None        2.0      Leonin Squire     2    common   \n",
       "4      W        None        4.0  Loxodon Anchorite     2    common   \n",
       "\n",
       "          subtypes supertypes  \\\n",
       "0     Human,Cleric       None   \n",
       "1    Human,Soldier       None   \n",
       "2     Human,Wizard       None   \n",
       "3      Cat,Soldier       None   \n",
       "4  Elephant,Cleric       None   \n",
       "\n",
       "                                                text toughness  \n",
       "0  Protection from black and from red Whenever an...         1  \n",
       "1  {1}{1}: Return target artifact card with mana ...         4  \n",
       "2  Flying Tap : Attach target Equipment you contr...         3  \n",
       "3  When this card enters the battlefield, return ...         2  \n",
       "4  Tap : Prevent the next 2 damage that would be ...         3  "
      ]
     },
     "execution_count": 11,
     "metadata": {},
     "output_type": "execute_result"
    }
   ],
   "source": [
    "df.head()"
   ]
  },
  {
   "cell_type": "code",
   "execution_count": 12,
   "id": "88fa565f",
   "metadata": {},
   "outputs": [],
   "source": [
    "# removing name from text to avoid overfitting on classification models later \n",
    "df = remove_name(df)"
   ]
  },
  {
   "cell_type": "code",
   "execution_count": 13,
   "id": "4cbbc30c",
   "metadata": {},
   "outputs": [
    {
     "data": {
      "text/html": [
       "<div>\n",
       "<style scoped>\n",
       "    .dataframe tbody tr th:only-of-type {\n",
       "        vertical-align: middle;\n",
       "    }\n",
       "\n",
       "    .dataframe tbody tr th {\n",
       "        vertical-align: top;\n",
       "    }\n",
       "\n",
       "    .dataframe thead th {\n",
       "        text-align: right;\n",
       "    }\n",
       "</style>\n",
       "<table border=\"1\" class=\"dataframe\">\n",
       "  <thead>\n",
       "    <tr style=\"text-align: right;\">\n",
       "      <th></th>\n",
       "      <th>colors</th>\n",
       "      <th>keywords</th>\n",
       "      <th>manaValue</th>\n",
       "      <th>name</th>\n",
       "      <th>power</th>\n",
       "      <th>rarity</th>\n",
       "      <th>subtypes</th>\n",
       "      <th>supertypes</th>\n",
       "      <th>text</th>\n",
       "      <th>toughness</th>\n",
       "    </tr>\n",
       "  </thead>\n",
       "  <tbody>\n",
       "    <tr>\n",
       "      <th>0</th>\n",
       "      <td>W</td>\n",
       "      <td>Protection</td>\n",
       "      <td>2.0</td>\n",
       "      <td>Auriok Champion</td>\n",
       "      <td>1</td>\n",
       "      <td>rare</td>\n",
       "      <td>Human,Cleric</td>\n",
       "      <td>None</td>\n",
       "      <td>Protection from black and from red Whenever an...</td>\n",
       "      <td>1</td>\n",
       "    </tr>\n",
       "    <tr>\n",
       "      <th>1</th>\n",
       "      <td>W</td>\n",
       "      <td>None</td>\n",
       "      <td>4.0</td>\n",
       "      <td>Auriok Salvagers</td>\n",
       "      <td>2</td>\n",
       "      <td>uncommon</td>\n",
       "      <td>Human,Soldier</td>\n",
       "      <td>None</td>\n",
       "      <td>{1}{1}: Return target artifact card with mana ...</td>\n",
       "      <td>4</td>\n",
       "    </tr>\n",
       "    <tr>\n",
       "      <th>2</th>\n",
       "      <td>W</td>\n",
       "      <td>Flying</td>\n",
       "      <td>4.0</td>\n",
       "      <td>Auriok Windwalker</td>\n",
       "      <td>2</td>\n",
       "      <td>rare</td>\n",
       "      <td>Human,Wizard</td>\n",
       "      <td>None</td>\n",
       "      <td>Flying Tap : Attach target Equipment you contr...</td>\n",
       "      <td>3</td>\n",
       "    </tr>\n",
       "    <tr>\n",
       "      <th>3</th>\n",
       "      <td>W</td>\n",
       "      <td>None</td>\n",
       "      <td>2.0</td>\n",
       "      <td>Leonin Squire</td>\n",
       "      <td>2</td>\n",
       "      <td>common</td>\n",
       "      <td>Cat,Soldier</td>\n",
       "      <td>None</td>\n",
       "      <td>When this card enters the battlefield, return ...</td>\n",
       "      <td>2</td>\n",
       "    </tr>\n",
       "    <tr>\n",
       "      <th>4</th>\n",
       "      <td>W</td>\n",
       "      <td>None</td>\n",
       "      <td>4.0</td>\n",
       "      <td>Loxodon Anchorite</td>\n",
       "      <td>2</td>\n",
       "      <td>common</td>\n",
       "      <td>Elephant,Cleric</td>\n",
       "      <td>None</td>\n",
       "      <td>Tap : Prevent the next 2 damage that would be ...</td>\n",
       "      <td>3</td>\n",
       "    </tr>\n",
       "  </tbody>\n",
       "</table>\n",
       "</div>"
      ],
      "text/plain": [
       "  colors    keywords  manaValue               name power    rarity  \\\n",
       "0      W  Protection        2.0    Auriok Champion     1      rare   \n",
       "1      W        None        4.0   Auriok Salvagers     2  uncommon   \n",
       "2      W      Flying        4.0  Auriok Windwalker     2      rare   \n",
       "3      W        None        2.0      Leonin Squire     2    common   \n",
       "4      W        None        4.0  Loxodon Anchorite     2    common   \n",
       "\n",
       "          subtypes supertypes  \\\n",
       "0     Human,Cleric       None   \n",
       "1    Human,Soldier       None   \n",
       "2     Human,Wizard       None   \n",
       "3      Cat,Soldier       None   \n",
       "4  Elephant,Cleric       None   \n",
       "\n",
       "                                                text toughness  \n",
       "0  Protection from black and from red Whenever an...         1  \n",
       "1  {1}{1}: Return target artifact card with mana ...         4  \n",
       "2  Flying Tap : Attach target Equipment you contr...         3  \n",
       "3  When this card enters the battlefield, return ...         2  \n",
       "4  Tap : Prevent the next 2 damage that would be ...         3  "
      ]
     },
     "execution_count": 13,
     "metadata": {},
     "output_type": "execute_result"
    }
   ],
   "source": [
    "df.head()"
   ]
  },
  {
   "cell_type": "code",
   "execution_count": 14,
   "id": "36af21b2",
   "metadata": {},
   "outputs": [
    {
     "data": {
      "text/plain": [
       "'Flying Tap : Attach target Equipment you control to target creature you control.'"
      ]
     },
     "execution_count": 14,
     "metadata": {},
     "output_type": "execute_result"
    }
   ],
   "source": [
    "a = df.text[2]\n",
    "a"
   ]
  },
  {
   "cell_type": "code",
   "execution_count": 15,
   "id": "dde1ad7f",
   "metadata": {},
   "outputs": [
    {
     "data": {
      "text/plain": [
       "'Flying Tap : Attach target Equipment you control to target creature you control.'"
      ]
     },
     "execution_count": 15,
     "metadata": {},
     "output_type": "execute_result"
    }
   ],
   "source": [
    "a = df.text[2]\n",
    "re.sub('\\([^)]*\\)' , \"\", a)"
   ]
  },
  {
   "cell_type": "code",
   "execution_count": 16,
   "id": "a59192d3",
   "metadata": {},
   "outputs": [
    {
     "data": {
      "text/plain": [
       "[('None', 326),\n",
       " ('Flying', 91),\n",
       " ('Trample', 26),\n",
       " ('Swampwalk ', 21),\n",
       " ('Tap : Add {1}.', 19),\n",
       " ('Vigilance', 19),\n",
       " ('Reach ', 18),\n",
       " ('Forestwalk ', 17),\n",
       " ('Flying, vigilance', 16),\n",
       " ('Haste', 14)]"
      ]
     },
     "execution_count": 16,
     "metadata": {},
     "output_type": "execute_result"
    }
   ],
   "source": [
    "\n",
    "# most common card descriptions \n",
    "\n",
    "freq = nltk.FreqDist(df.text)\n",
    "common = freq.most_common()\n",
    "common[:10]"
   ]
  },
  {
   "cell_type": "code",
   "execution_count": 17,
   "id": "d9c8afe4",
   "metadata": {},
   "outputs": [
    {
     "name": "stdout",
     "output_type": "stream",
     "text": [
      "There are 1802s unique words in the vocabulary.\n"
     ]
    }
   ],
   "source": [
    "from sklearn.feature_extraction.text import CountVectorizer\n",
    "\n",
    "vectorizer = CountVectorizer(lowercase=True)\n",
    "vectorized_data = vectorizer.fit_transform(df.text) \n",
    "vocab = len(vectorizer.vocabulary_)\n",
    "\n",
    "print(f\"There are {vocab}s unique words in the vocabulary.\")  "
   ]
  }
 ],
 "metadata": {
  "kernelspec": {
   "display_name": "Python 3",
   "language": "python",
   "name": "python3"
  },
  "language_info": {
   "codemirror_mode": {
    "name": "ipython",
    "version": 3
   },
   "file_extension": ".py",
   "mimetype": "text/x-python",
   "name": "python",
   "nbconvert_exporter": "python",
   "pygments_lexer": "ipython3",
   "version": "3.8.8"
  }
 },
 "nbformat": 4,
 "nbformat_minor": 5
}
